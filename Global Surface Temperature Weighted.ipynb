{
  "cells": [
    {
      "cell_type": "code",
      "execution_count": null,
      "metadata": {
        "id": "rUB5zBsVM7g8"
      },
      "outputs": [],
      "source": [
        "filepath = '/content/drive/MyDrive/air.2m.mon.mean.nc'\n",
        "choose_months = np.arange(0, 12) #this chooses all however can be reduced to restrict the temporal domain\n",
        "lag = 0 #lag at which to calculate cross correlation between series\n",
        "threshold = 0.2"
      ]
    },
    {
      "cell_type": "markdown",
      "metadata": {
        "id": "95Q7zpagNGIy"
      },
      "source": [
        "# Installation of Packages"
      ]
    },
    {
      "cell_type": "code",
      "execution_count": null,
      "metadata": {
        "id": "VjYbQD32NI1d"
      },
      "outputs": [],
      "source": [
        "!pip install netCDF4"
      ]
    },
    {
      "cell_type": "code",
      "execution_count": null,
      "metadata": {
        "id": "-6wWcMVCNavX"
      },
      "outputs": [],
      "source": [
        "!pip install h5py"
      ]
    },
    {
      "cell_type": "code",
      "execution_count": null,
      "metadata": {
        "id": "ld5a0JR-NbzM"
      },
      "outputs": [],
      "source": [
        "!pip install --upgrade netCDF4 h5py"
      ]
    },
    {
      "cell_type": "code",
      "execution_count": null,
      "metadata": {
        "id": "G0Oimp7LNfx9"
      },
      "outputs": [],
      "source": [
        "!pip install cdlib"
      ]
    },
    {
      "cell_type": "code",
      "execution_count": null,
      "metadata": {
        "id": "q_w6T-Iu-WJN"
      },
      "outputs": [],
      "source": [
        "!pip install geopandas\n",
        "!pip install geoplot"
      ]
    },
    {
      "cell_type": "markdown",
      "metadata": {
        "id": "cj724vhasvu7"
      },
      "source": [
        "# Importing"
      ]
    },
    {
      "cell_type": "code",
      "execution_count": null,
      "metadata": {
        "id": "ailfqt9Psy3y"
      },
      "outputs": [],
      "source": [
        "import numpy as np\n",
        "import matplotlib.pyplot as plt\n",
        "import netCDF4 as nc\n",
        "import h5py\n",
        "import networkx as nx\n",
        "import cartopy.crs as ccrs\n",
        "from tqdm import tqdm\n",
        "from statsmodels.tsa.stattools import ccf\n",
        "from cdlib import algorithms"
      ]
    },
    {
      "cell_type": "markdown",
      "metadata": {
        "id": "R7cECuafNltC"
      },
      "source": [
        "# Functions required"
      ]
    },
    {
      "cell_type": "code",
      "execution_count": null,
      "metadata": {
        "id": "tQumJ6auNpHR"
      },
      "outputs": [],
      "source": [
        "#Loading and Reading Data\n",
        "def load_and_read(filepath):\n",
        "  f = nc.Dataset(filepath, 'r')\n",
        "  lat = f.variables['lat']\n",
        "  lon = f.variables['lon']\n",
        "  band = f.variables['time_bnds']\n",
        "  time = f.variables['time']\n",
        "  temp = f.variables['air']\n",
        "  lat_arr = lat[:]\n",
        "  lon_arr = lon[:]\n",
        "  band_arr = band[:]\n",
        "  time_arr = time[:]\n",
        "  temp_arr = np.zeros((540, 94, 192)) ; temp_arr = temp[:]\n",
        "  monthly_temp = temp_arr.reshape((12, 45, 94, 192), order='F')\n",
        "  monthly_means = np.mean(monthly_temp, axis=1)\n",
        "\n",
        "  anomaly = np.zeros_like(monthly_temp)\n",
        "  for i in range(45):\n",
        "    anomaly[:, i] = monthly_temp[:, i]-monthly_means\n",
        "\n",
        "  return monthly_means, anomaly, lat_arr, lon_arr\n",
        "\n",
        "#Finding Correlations between spatial locations\n",
        "def find_correlations(anomaly, choose_months = choose_months, lag=lag):\n",
        "  correlations = np.zeros((94*192, 94*192))\n",
        "\n",
        "reshaped = anomaly.reshape(12, 45, 94*192)\n",
        "\n",
        "for i in tqdm(range(94*192)):\n",
        "  for j in range(i+1, 94*192):\n",
        "    series1 = reshaped[choose_months, :, i].flatten()\n",
        "    series2 = reshaped[choose_montha, :, j].flatten()\n",
        "\n",
        "    correlations[i, j] = ccf(series1, series2)[lag]\n",
        "\n",
        "  return correlations\n",
        "\n",
        "\n",
        "#Building network based on calculated correlations and a threshold\n",
        "def build_network(correlations, lat_arr, lon_arr, resolution=1, threshold=0.5):\n",
        "  grid = np.zeros((94, 192), dtype=tuple)\n",
        "  for i in tqdm(range(94)):\n",
        "    for j in range(192):\n",
        "      grid[i, j] = (lat_arr[i], lon_arr[j]-180)\n",
        "\n",
        "  list_of_points = grid.flatten()\n",
        "  flattened = correlations + correlations.T\n",
        "\n",
        "  threshold = 0.5\n",
        "  A = np.where(np.abs(flattened) > threshold, np.abs(flattened), 0)\n",
        "\n",
        "  G = nx.Graph()\n",
        "\n",
        "  for i in range(0, len(A), int(1/resolution)):\n",
        "    G.add_node(i, pos=list_of_points[i])\n",
        "\n",
        "  for i in range(0, len(A), int(1/resolution)):\n",
        "    for j in range(0, len(A), int(1/resolution)):\n",
        "      if A[i, j] == 1:\n",
        "        G.add_edge(i, j)\n",
        "\n",
        "  return G\n",
        "\n",
        "#Plotting distribution of correlations\n",
        "def plot_correlations(correlations, flattened, threshold=0.5):\n",
        "  upper_entries = np.abs(flattened[np.triu_indices(flattened.shape[0], k=1)])\n",
        "  fig, ax = plt.subplots(figsize=(10, 5), constrained_layout=True)\n",
        "  plt.hist(upper_entries, bins=100, color=\"tab:blue\", alpha=0.5, label=\"counts\",)\n",
        "  ax.axvline(threshold, color=\"tab:red\", label=\"threshold\")\n",
        "  ax.set_xlabel(\"Correlation\")\n",
        "  ax.set_ylabel(\"Pairs of Locations\")\n",
        "  ax.legend()\n",
        "\n",
        "  return fig\n",
        "\n",
        "#Plotting network\n",
        "def plot_network(G, plot_edges=True, plot_nodes=True):\n",
        "  fig, ax = plt.subplots(figsize = (15, 10), subplot_kw={'projection': ccrs.PlateCarree()})\n",
        "  pos = {node: (lon, lat) for node, (lat, lon) in nx.get_node_attributes(G, 'pos').items()}\n",
        "\n",
        "  if plot_edges:\n",
        "    nx.draw_networkx_edges(G, pos, ax=ax, edge_color='k', alpha=0.2)\n",
        "  if plot_nodes:\n",
        "    nx.draw_networkx_nodes(G, pos, ax=ax, node_color='r', node_size=15, alpha=0.7)\n",
        "\n",
        "  ax.coastlines()\n",
        "  ax.gridlines()\n",
        "\n",
        "  return fig\n",
        "\n",
        "\n",
        "def community_detection(G):\n",
        "  communities = algorithms.louvain(G)\n",
        "  print('No. of Communities:', len(communities.communities))\n",
        "  print('Modularity:', communities.newman_girvan_modularity())\n",
        "  return communities\n",
        "\n",
        "def plot_communities(G, communities, plot_edges=False, node_size=50):\n",
        "  num_communities = len(communities.communities)\n",
        "  community_colors = plt.cm.rainbow(np.linspace(0, 1, num_communities))\n",
        "\n",
        "  node_colors = {node: community_colors[community_id] for community_id, community in enumerate(communities.communities) for node in community}\n",
        "  community_mapping = {node: community_id for community_id, community in enumerate(communities.communities) for node in community}\n",
        "\n",
        "  fig, ax = plt.subplots(figsize = (15, 10), subplot_kw={'projection': ccrs.PlateCarree()})\n",
        "  pos = {node: (lon, lat) for node, (lat, lon) in nx.get_node_attributes(G, 'pos').items()}\n",
        "\n",
        "  if plot_edges:\n",
        "    nx.draw_networkx_edges(G, pos, ax=ax, edge_color='k', alpha=0.3)\n",
        "\n",
        "  for node, (lon, lat) in pos.items():\n",
        "    color = community_colors[community_mapping.get(node, 0)]  # Default to the first color if not in any community\n",
        "    ax.scatter(lon, lat, c=[color], s=node_size, transform=ccrs.PlateCarree())\n",
        "\n",
        "  ax.coastlines()\n",
        "  ax.gridlines()\n",
        "\n",
        "  legend_labels = [f\"Community {i}\" for i in range(num_communities)]\n",
        "  legend_handles = [plt.Line2D([0], [0], marker='o', color='w', markerfacecolor=community_colors[i], markersize=10) for i in range(num_communities)]\n",
        "  ax.legend(legend_handles, legend_labels, loc='upper right')\n",
        "\n",
        "  return fig\n",
        "\n",
        "\n"
      ]
    },
    {
      "cell_type": "markdown",
      "metadata": {
        "id": "S-X4rDb5oy7k"
      },
      "source": [
        "# Pipeline"
      ]
    },
    {
      "cell_type": "code",
      "execution_count": null,
      "metadata": {
        "id": "l7betyo5zsLv"
      },
      "outputs": [],
      "source": [
        "monthly_means, anomaly, lat_arr, lon_arr = load_and_read(filepath)\n",
        "correlations = find_correlations(anomaly, P_level, choose_months, lag)\n",
        "\n",
        "G1 = build_network(correlations, lat_arr, lon_arr, resolution=1/10, threshold=threshold)\n",
        "G2 = build_network(correlations, lat_arr, lon_arr, resolution=1, threshold=threshold)\n",
        "\n",
        "print('Resolution 1/10th')\n",
        "communities1 = community_detection(G1)\n",
        "print('\\n')\n",
        "print('Full Resolution')\n",
        "communities2 = community_detection(G2)\n",
        "\n",
        "print('Modularity:', communities2.newman_girvan_modularity())"
      ]
    },
    {
      "cell_type": "markdown",
      "metadata": {
        "id": "BBuv225y14ZQ"
      },
      "source": [
        "# Plotting"
      ]
    },
    {
      "cell_type": "code",
      "execution_count": null,
      "metadata": {
        "id": "l07QAqNY15tb"
      },
      "outputs": [],
      "source": [
        "#1/10th resolution\n",
        "fig= plot_network(G1)"
      ]
    },
    {
      "cell_type": "code",
      "execution_count": null,
      "metadata": {
        "id": "qzDsP-3w2CeA"
      },
      "outputs": [],
      "source": [
        "#Communities in 1/10th resolution\n",
        "fig = plot_communities(G1, communities1)"
      ]
    },
    {
      "cell_type": "code",
      "execution_count": null,
      "metadata": {
        "id": "gcg7N-IB2LD_"
      },
      "outputs": [],
      "source": [
        "#Communities in full resolution\n",
        "fig = plot_communities(G2, communities2, node_size=10)"
      ]
    },
    {
      "cell_type": "code",
      "source": [
        "# Extract community sizes\n",
        "community_sizes = [len(community) for community in communities2.communities]\n",
        "for i in range(len(community_sizes)):\n",
        "  plt.vlines(i, ymin=0, ymax=community_sizes[i], color=community_colors[i])\n",
        "plt.xlabel(\"Community No.\")\n",
        "plt.ylabel(\"Number of Nodes\")\n",
        "plt.show()"
      ],
      "metadata": {
        "id": "A9X20D5IwzzZ"
      },
      "execution_count": null,
      "outputs": []
    }
  ],
  "metadata": {
    "colab": {
      "collapsed_sections": [
        "95Q7zpagNGIy",
        "cj724vhasvu7",
        "R7cECuafNltC"
      ],
      "provenance": []
    },
    "kernelspec": {
      "display_name": "Python 3",
      "name": "python3"
    },
    "language_info": {
      "name": "python"
    }
  },
  "nbformat": 4,
  "nbformat_minor": 0
}