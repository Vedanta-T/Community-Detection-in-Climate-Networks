{
  "cells": [
    {
      "cell_type": "code",
      "execution_count": null,
      "metadata": {
        "id": "rUB5zBsVM7g8"
      },
      "outputs": [],
      "source": [
        "filepath = '/content/drive/MyDrive/air.2m.mon.mean.nc'\n",
        "choose_months = np.arange(0, 12) #this chooses all however can be reduced to restrict the temporal domain\n",
        "lag = 0 #lag at which to calculate cross correlation between series\n",
        "threshold = 0.5"
      ]
    },
    {
      "cell_type": "markdown",
      "metadata": {
        "id": "95Q7zpagNGIy"
      },
      "source": [
        "# Installation of Packages"
      ]
    },
    {
      "cell_type": "code",
      "execution_count": null,
      "metadata": {
        "colab": {
          "base_uri": "https://localhost:8080/"
        },
        "id": "VjYbQD32NI1d",
        "outputId": "dc4270d5-c054-4d85-a310-a904933ebddb"
      },
      "outputs": [
        {
          "output_type": "stream",
          "name": "stdout",
          "text": [
            "Collecting netCDF4\n",
            "  Downloading netCDF4-1.6.5-cp310-cp310-manylinux_2_17_x86_64.manylinux2014_x86_64.whl (5.5 MB)\n",
            "\u001b[2K     \u001b[90m━━━━━━━━━━━━━━━━━━━━━━━━━━━━━━━━━━━━━━━━\u001b[0m \u001b[32m5.5/5.5 MB\u001b[0m \u001b[31m9.3 MB/s\u001b[0m eta \u001b[36m0:00:00\u001b[0m\n",
            "\u001b[?25hCollecting cftime (from netCDF4)\n",
            "  Downloading cftime-1.6.3-cp310-cp310-manylinux_2_17_x86_64.manylinux2014_x86_64.whl (1.3 MB)\n",
            "\u001b[2K     \u001b[90m━━━━━━━━━━━━━━━━━━━━━━━━━━━━━━━━━━━━━━━━\u001b[0m \u001b[32m1.3/1.3 MB\u001b[0m \u001b[31m12.0 MB/s\u001b[0m eta \u001b[36m0:00:00\u001b[0m\n",
            "\u001b[?25hRequirement already satisfied: certifi in /usr/local/lib/python3.10/dist-packages (from netCDF4) (2023.11.17)\n",
            "Requirement already satisfied: numpy in /usr/local/lib/python3.10/dist-packages (from netCDF4) (1.23.5)\n",
            "Installing collected packages: cftime, netCDF4\n",
            "Successfully installed cftime-1.6.3 netCDF4-1.6.5\n"
          ]
        }
      ],
      "source": [
        "!pip install netCDF4"
      ]
    },
    {
      "cell_type": "code",
      "execution_count": null,
      "metadata": {
        "colab": {
          "base_uri": "https://localhost:8080/"
        },
        "id": "-6wWcMVCNavX",
        "outputId": "9905cc3a-c40a-4326-d904-e5ed04770977"
      },
      "outputs": [
        {
          "output_type": "stream",
          "name": "stdout",
          "text": [
            "Requirement already satisfied: h5py in /usr/local/lib/python3.10/dist-packages (3.9.0)\n",
            "Requirement already satisfied: numpy>=1.17.3 in /usr/local/lib/python3.10/dist-packages (from h5py) (1.23.5)\n"
          ]
        }
      ],
      "source": [
        "!pip install h5py"
      ]
    },
    {
      "cell_type": "code",
      "execution_count": null,
      "metadata": {
        "colab": {
          "base_uri": "https://localhost:8080/"
        },
        "id": "ld5a0JR-NbzM",
        "outputId": "c537eceb-f18b-425e-8eed-a659c0390d89"
      },
      "outputs": [
        {
          "output_type": "stream",
          "name": "stdout",
          "text": [
            "Requirement already satisfied: netCDF4 in /usr/local/lib/python3.10/dist-packages (1.6.5)\n",
            "Requirement already satisfied: h5py in /usr/local/lib/python3.10/dist-packages (3.9.0)\n",
            "Collecting h5py\n",
            "  Downloading h5py-3.10.0-cp310-cp310-manylinux_2_17_x86_64.manylinux2014_x86_64.whl (4.8 MB)\n",
            "\u001b[2K     \u001b[90m━━━━━━━━━━━━━━━━━━━━━━━━━━━━━━━━━━━━━━━━\u001b[0m \u001b[32m4.8/4.8 MB\u001b[0m \u001b[31m10.7 MB/s\u001b[0m eta \u001b[36m0:00:00\u001b[0m\n",
            "\u001b[?25hRequirement already satisfied: cftime in /usr/local/lib/python3.10/dist-packages (from netCDF4) (1.6.3)\n",
            "Requirement already satisfied: certifi in /usr/local/lib/python3.10/dist-packages (from netCDF4) (2023.11.17)\n",
            "Requirement already satisfied: numpy in /usr/local/lib/python3.10/dist-packages (from netCDF4) (1.23.5)\n",
            "Installing collected packages: h5py\n",
            "  Attempting uninstall: h5py\n",
            "    Found existing installation: h5py 3.9.0\n",
            "    Uninstalling h5py-3.9.0:\n",
            "      Successfully uninstalled h5py-3.9.0\n",
            "Successfully installed h5py-3.10.0\n"
          ]
        }
      ],
      "source": [
        "!pip install --upgrade netCDF4 h5py"
      ]
    },
    {
      "cell_type": "code",
      "execution_count": null,
      "metadata": {
        "colab": {
          "base_uri": "https://localhost:8080/"
        },
        "id": "G0Oimp7LNfx9",
        "outputId": "9856b7f5-f816-42c7-9840-3ae6fe4f9c1c"
      },
      "outputs": [
        {
          "output_type": "stream",
          "name": "stdout",
          "text": [
            "Collecting cdlib\n",
            "  Downloading cdlib-0.3.0-py3-none-any.whl (230 kB)\n",
            "\u001b[2K     \u001b[90m━━━━━━━━━━━━━━━━━━━━━━━━━━━━━━━━━━━━━━━━\u001b[0m \u001b[32m230.3/230.3 kB\u001b[0m \u001b[31m3.0 MB/s\u001b[0m eta \u001b[36m0:00:00\u001b[0m\n",
            "\u001b[?25hRequirement already satisfied: numpy in /usr/local/lib/python3.10/dist-packages (from cdlib) (1.23.5)\n",
            "Requirement already satisfied: matplotlib in /usr/local/lib/python3.10/dist-packages (from cdlib) (3.7.1)\n",
            "Requirement already satisfied: scikit-learn in /usr/local/lib/python3.10/dist-packages (from cdlib) (1.2.2)\n",
            "Requirement already satisfied: tqdm in /usr/local/lib/python3.10/dist-packages (from cdlib) (4.66.1)\n",
            "Requirement already satisfied: networkx>=3.0 in /usr/local/lib/python3.10/dist-packages (from cdlib) (3.2.1)\n",
            "Collecting demon (from cdlib)\n",
            "  Downloading demon-2.0.6-py3-none-any.whl (7.3 kB)\n",
            "Requirement already satisfied: python-louvain>=0.16 in /usr/local/lib/python3.10/dist-packages (from cdlib) (0.16)\n",
            "Collecting nf1 (from cdlib)\n",
            "  Downloading nf1-0.0.4-py3-none-any.whl (18 kB)\n",
            "Requirement already satisfied: scipy in /usr/local/lib/python3.10/dist-packages (from cdlib) (1.11.4)\n",
            "Collecting pulp (from cdlib)\n",
            "  Downloading PuLP-2.7.0-py3-none-any.whl (14.3 MB)\n",
            "\u001b[2K     \u001b[90m━━━━━━━━━━━━━━━━━━━━━━━━━━━━━━━━━━━━━━━━\u001b[0m \u001b[32m14.3/14.3 MB\u001b[0m \u001b[31m26.5 MB/s\u001b[0m eta \u001b[36m0:00:00\u001b[0m\n",
            "\u001b[?25hRequirement already satisfied: seaborn in /usr/local/lib/python3.10/dist-packages (from cdlib) (0.12.2)\n",
            "Requirement already satisfied: pandas in /usr/local/lib/python3.10/dist-packages (from cdlib) (1.5.3)\n",
            "Collecting eva-lcd (from cdlib)\n",
            "  Downloading eva_lcd-0.1.1-py3-none-any.whl (9.2 kB)\n",
            "Collecting bimlpa (from cdlib)\n",
            "  Downloading bimlpa-0.1.2-py3-none-any.whl (7.0 kB)\n",
            "Collecting markov-clustering (from cdlib)\n",
            "  Downloading markov_clustering-0.0.6.dev0-py3-none-any.whl (6.3 kB)\n",
            "Collecting python-igraph>=0.10 (from cdlib)\n",
            "  Downloading python_igraph-0.11.3-py3-none-any.whl (9.1 kB)\n",
            "Collecting angelcommunity (from cdlib)\n",
            "  Downloading angelcommunity-2.0.0-py3-none-any.whl (10 kB)\n",
            "Requirement already satisfied: pooch in /usr/local/lib/python3.10/dist-packages (from cdlib) (1.8.0)\n",
            "Collecting dynetx (from cdlib)\n",
            "  Downloading dynetx-0.3.2-py3-none-any.whl (39 kB)\n",
            "Collecting thresholdclustering (from cdlib)\n",
            "  Downloading thresholdclustering-1.1-py3-none-any.whl (5.3 kB)\n",
            "Collecting python-Levenshtein (from cdlib)\n",
            "  Downloading python_Levenshtein-0.23.0-py3-none-any.whl (9.4 kB)\n",
            "Collecting igraph==0.11.3 (from python-igraph>=0.10->cdlib)\n",
            "  Downloading igraph-0.11.3-cp39-abi3-manylinux_2_17_x86_64.manylinux2014_x86_64.whl (3.3 MB)\n",
            "\u001b[2K     \u001b[90m━━━━━━━━━━━━━━━━━━━━━━━━━━━━━━━━━━━━━━━━\u001b[0m \u001b[32m3.3/3.3 MB\u001b[0m \u001b[31m33.6 MB/s\u001b[0m eta \u001b[36m0:00:00\u001b[0m\n",
            "\u001b[?25hCollecting texttable>=1.6.2 (from igraph==0.11.3->python-igraph>=0.10->cdlib)\n",
            "  Downloading texttable-1.7.0-py2.py3-none-any.whl (10 kB)\n",
            "Requirement already satisfied: future in /usr/local/lib/python3.10/dist-packages (from angelcommunity->cdlib) (0.18.3)\n",
            "Requirement already satisfied: decorator in /usr/local/lib/python3.10/dist-packages (from dynetx->cdlib) (4.4.2)\n",
            "Requirement already satisfied: contourpy>=1.0.1 in /usr/local/lib/python3.10/dist-packages (from matplotlib->cdlib) (1.2.0)\n",
            "Requirement already satisfied: cycler>=0.10 in /usr/local/lib/python3.10/dist-packages (from matplotlib->cdlib) (0.12.1)\n",
            "Requirement already satisfied: fonttools>=4.22.0 in /usr/local/lib/python3.10/dist-packages (from matplotlib->cdlib) (4.47.0)\n",
            "Requirement already satisfied: kiwisolver>=1.0.1 in /usr/local/lib/python3.10/dist-packages (from matplotlib->cdlib) (1.4.5)\n",
            "Requirement already satisfied: packaging>=20.0 in /usr/local/lib/python3.10/dist-packages (from matplotlib->cdlib) (23.2)\n",
            "Requirement already satisfied: pillow>=6.2.0 in /usr/local/lib/python3.10/dist-packages (from matplotlib->cdlib) (9.4.0)\n",
            "Requirement already satisfied: pyparsing>=2.3.1 in /usr/local/lib/python3.10/dist-packages (from matplotlib->cdlib) (3.1.1)\n",
            "Requirement already satisfied: python-dateutil>=2.7 in /usr/local/lib/python3.10/dist-packages (from matplotlib->cdlib) (2.8.2)\n",
            "Requirement already satisfied: pytz>=2020.1 in /usr/local/lib/python3.10/dist-packages (from pandas->cdlib) (2023.3.post1)\n",
            "Requirement already satisfied: platformdirs>=2.5.0 in /usr/local/lib/python3.10/dist-packages (from pooch->cdlib) (4.1.0)\n",
            "Requirement already satisfied: requests>=2.19.0 in /usr/local/lib/python3.10/dist-packages (from pooch->cdlib) (2.31.0)\n",
            "Collecting Levenshtein==0.23.0 (from python-Levenshtein->cdlib)\n",
            "  Downloading Levenshtein-0.23.0-cp310-cp310-manylinux_2_17_x86_64.manylinux2014_x86_64.whl (169 kB)\n",
            "\u001b[2K     \u001b[90m━━━━━━━━━━━━━━━━━━━━━━━━━━━━━━━━━━━━━━━━\u001b[0m \u001b[32m169.4/169.4 kB\u001b[0m \u001b[31m15.1 MB/s\u001b[0m eta \u001b[36m0:00:00\u001b[0m\n",
            "\u001b[?25hCollecting rapidfuzz<4.0.0,>=3.1.0 (from Levenshtein==0.23.0->python-Levenshtein->cdlib)\n",
            "  Downloading rapidfuzz-3.6.1-cp310-cp310-manylinux_2_17_x86_64.manylinux2014_x86_64.whl (3.4 MB)\n",
            "\u001b[2K     \u001b[90m━━━━━━━━━━━━━━━━━━━━━━━━━━━━━━━━━━━━━━━━\u001b[0m \u001b[32m3.4/3.4 MB\u001b[0m \u001b[31m37.9 MB/s\u001b[0m eta \u001b[36m0:00:00\u001b[0m\n",
            "\u001b[?25hRequirement already satisfied: joblib>=1.1.1 in /usr/local/lib/python3.10/dist-packages (from scikit-learn->cdlib) (1.3.2)\n",
            "Requirement already satisfied: threadpoolctl>=2.0.0 in /usr/local/lib/python3.10/dist-packages (from scikit-learn->cdlib) (3.2.0)\n",
            "Requirement already satisfied: six>=1.5 in /usr/local/lib/python3.10/dist-packages (from python-dateutil>=2.7->matplotlib->cdlib) (1.16.0)\n",
            "Requirement already satisfied: charset-normalizer<4,>=2 in /usr/local/lib/python3.10/dist-packages (from requests>=2.19.0->pooch->cdlib) (3.3.2)\n",
            "Requirement already satisfied: idna<4,>=2.5 in /usr/local/lib/python3.10/dist-packages (from requests>=2.19.0->pooch->cdlib) (3.6)\n",
            "Requirement already satisfied: urllib3<3,>=1.21.1 in /usr/local/lib/python3.10/dist-packages (from requests>=2.19.0->pooch->cdlib) (2.0.7)\n",
            "Requirement already satisfied: certifi>=2017.4.17 in /usr/local/lib/python3.10/dist-packages (from requests>=2.19.0->pooch->cdlib) (2023.11.17)\n",
            "Installing collected packages: texttable, pulp, thresholdclustering, rapidfuzz, igraph, eva-lcd, dynetx, demon, python-igraph, Levenshtein, python-Levenshtein, nf1, markov-clustering, bimlpa, angelcommunity, cdlib\n",
            "Successfully installed Levenshtein-0.23.0 angelcommunity-2.0.0 bimlpa-0.1.2 cdlib-0.3.0 demon-2.0.6 dynetx-0.3.2 eva-lcd-0.1.1 igraph-0.11.3 markov-clustering-0.0.6.dev0 nf1-0.0.4 pulp-2.7.0 python-Levenshtein-0.23.0 python-igraph-0.11.3 rapidfuzz-3.6.1 texttable-1.7.0 thresholdclustering-1.1\n"
          ]
        }
      ],
      "source": [
        "!pip install cdlib"
      ]
    },
    {
      "cell_type": "code",
      "execution_count": null,
      "metadata": {
        "colab": {
          "base_uri": "https://localhost:8080/"
        },
        "id": "q_w6T-Iu-WJN",
        "outputId": "d0a949b5-3f9d-4f07-f260-c29ea9176566"
      },
      "outputs": [
        {
          "output_type": "stream",
          "name": "stdout",
          "text": [
            "Requirement already satisfied: geopandas in /usr/local/lib/python3.10/dist-packages (0.13.2)\n",
            "Requirement already satisfied: fiona>=1.8.19 in /usr/local/lib/python3.10/dist-packages (from geopandas) (1.9.5)\n",
            "Requirement already satisfied: packaging in /usr/local/lib/python3.10/dist-packages (from geopandas) (23.2)\n",
            "Requirement already satisfied: pandas>=1.1.0 in /usr/local/lib/python3.10/dist-packages (from geopandas) (1.5.3)\n",
            "Requirement already satisfied: pyproj>=3.0.1 in /usr/local/lib/python3.10/dist-packages (from geopandas) (3.6.1)\n",
            "Requirement already satisfied: shapely>=1.7.1 in /usr/local/lib/python3.10/dist-packages (from geopandas) (2.0.2)\n",
            "Requirement already satisfied: attrs>=19.2.0 in /usr/local/lib/python3.10/dist-packages (from fiona>=1.8.19->geopandas) (23.1.0)\n",
            "Requirement already satisfied: certifi in /usr/local/lib/python3.10/dist-packages (from fiona>=1.8.19->geopandas) (2023.11.17)\n",
            "Requirement already satisfied: click~=8.0 in /usr/local/lib/python3.10/dist-packages (from fiona>=1.8.19->geopandas) (8.1.7)\n",
            "Requirement already satisfied: click-plugins>=1.0 in /usr/local/lib/python3.10/dist-packages (from fiona>=1.8.19->geopandas) (1.1.1)\n",
            "Requirement already satisfied: cligj>=0.5 in /usr/local/lib/python3.10/dist-packages (from fiona>=1.8.19->geopandas) (0.7.2)\n",
            "Requirement already satisfied: six in /usr/local/lib/python3.10/dist-packages (from fiona>=1.8.19->geopandas) (1.16.0)\n",
            "Requirement already satisfied: setuptools in /usr/local/lib/python3.10/dist-packages (from fiona>=1.8.19->geopandas) (67.7.2)\n",
            "Requirement already satisfied: python-dateutil>=2.8.1 in /usr/local/lib/python3.10/dist-packages (from pandas>=1.1.0->geopandas) (2.8.2)\n",
            "Requirement already satisfied: pytz>=2020.1 in /usr/local/lib/python3.10/dist-packages (from pandas>=1.1.0->geopandas) (2023.3.post1)\n",
            "Requirement already satisfied: numpy>=1.21.0 in /usr/local/lib/python3.10/dist-packages (from pandas>=1.1.0->geopandas) (1.23.5)\n",
            "Collecting geoplot\n",
            "  Downloading geoplot-0.5.1-py3-none-any.whl (28 kB)\n",
            "Requirement already satisfied: matplotlib>=3.1.2 in /usr/local/lib/python3.10/dist-packages (from geoplot) (3.7.1)\n",
            "Requirement already satisfied: seaborn in /usr/local/lib/python3.10/dist-packages (from geoplot) (0.12.2)\n",
            "Requirement already satisfied: pandas in /usr/local/lib/python3.10/dist-packages (from geoplot) (1.5.3)\n",
            "Requirement already satisfied: geopandas>=0.9.0 in /usr/local/lib/python3.10/dist-packages (from geoplot) (0.13.2)\n",
            "Collecting cartopy (from geoplot)\n",
            "  Downloading Cartopy-0.22.0-cp310-cp310-manylinux_2_17_x86_64.manylinux2014_x86_64.whl (11.8 MB)\n",
            "\u001b[2K     \u001b[90m━━━━━━━━━━━━━━━━━━━━━━━━━━━━━━━━━━━━━━━━\u001b[0m \u001b[32m11.8/11.8 MB\u001b[0m \u001b[31m18.9 MB/s\u001b[0m eta \u001b[36m0:00:00\u001b[0m\n",
            "\u001b[?25hCollecting mapclassify>=2.1 (from geoplot)\n",
            "  Downloading mapclassify-2.6.1-py3-none-any.whl (38 kB)\n",
            "Collecting contextily>=1.0.0 (from geoplot)\n",
            "  Downloading contextily-1.5.0-py3-none-any.whl (17 kB)\n",
            "Requirement already satisfied: geopy in /usr/local/lib/python3.10/dist-packages (from contextily>=1.0.0->geoplot) (2.3.0)\n",
            "Collecting mercantile (from contextily>=1.0.0->geoplot)\n",
            "  Downloading mercantile-1.2.1-py3-none-any.whl (14 kB)\n",
            "Requirement already satisfied: pillow in /usr/local/lib/python3.10/dist-packages (from contextily>=1.0.0->geoplot) (9.4.0)\n",
            "Collecting rasterio (from contextily>=1.0.0->geoplot)\n",
            "  Downloading rasterio-1.3.9-cp310-cp310-manylinux2014_x86_64.whl (20.6 MB)\n",
            "\u001b[2K     \u001b[90m━━━━━━━━━━━━━━━━━━━━━━━━━━━━━━━━━━━━━━━━\u001b[0m \u001b[32m20.6/20.6 MB\u001b[0m \u001b[31m19.5 MB/s\u001b[0m eta \u001b[36m0:00:00\u001b[0m\n",
            "\u001b[?25hRequirement already satisfied: requests in /usr/local/lib/python3.10/dist-packages (from contextily>=1.0.0->geoplot) (2.31.0)\n",
            "Requirement already satisfied: joblib in /usr/local/lib/python3.10/dist-packages (from contextily>=1.0.0->geoplot) (1.3.2)\n",
            "Requirement already satisfied: xyzservices in /usr/local/lib/python3.10/dist-packages (from contextily>=1.0.0->geoplot) (2023.10.1)\n",
            "Requirement already satisfied: fiona>=1.8.19 in /usr/local/lib/python3.10/dist-packages (from geopandas>=0.9.0->geoplot) (1.9.5)\n",
            "Requirement already satisfied: packaging in /usr/local/lib/python3.10/dist-packages (from geopandas>=0.9.0->geoplot) (23.2)\n",
            "Requirement already satisfied: pyproj>=3.0.1 in /usr/local/lib/python3.10/dist-packages (from geopandas>=0.9.0->geoplot) (3.6.1)\n",
            "Requirement already satisfied: shapely>=1.7.1 in /usr/local/lib/python3.10/dist-packages (from geopandas>=0.9.0->geoplot) (2.0.2)\n",
            "Requirement already satisfied: networkx>=2.7 in /usr/local/lib/python3.10/dist-packages (from mapclassify>=2.1->geoplot) (3.2.1)\n",
            "Requirement already satisfied: numpy>=1.23 in /usr/local/lib/python3.10/dist-packages (from mapclassify>=2.1->geoplot) (1.23.5)\n",
            "Requirement already satisfied: scikit-learn>=1.0 in /usr/local/lib/python3.10/dist-packages (from mapclassify>=2.1->geoplot) (1.2.2)\n",
            "Requirement already satisfied: scipy>=1.8 in /usr/local/lib/python3.10/dist-packages (from mapclassify>=2.1->geoplot) (1.11.4)\n",
            "Requirement already satisfied: contourpy>=1.0.1 in /usr/local/lib/python3.10/dist-packages (from matplotlib>=3.1.2->geoplot) (1.2.0)\n",
            "Requirement already satisfied: cycler>=0.10 in /usr/local/lib/python3.10/dist-packages (from matplotlib>=3.1.2->geoplot) (0.12.1)\n",
            "Requirement already satisfied: fonttools>=4.22.0 in /usr/local/lib/python3.10/dist-packages (from matplotlib>=3.1.2->geoplot) (4.47.0)\n",
            "Requirement already satisfied: kiwisolver>=1.0.1 in /usr/local/lib/python3.10/dist-packages (from matplotlib>=3.1.2->geoplot) (1.4.5)\n",
            "Requirement already satisfied: pyparsing>=2.3.1 in /usr/local/lib/python3.10/dist-packages (from matplotlib>=3.1.2->geoplot) (3.1.1)\n",
            "Requirement already satisfied: python-dateutil>=2.7 in /usr/local/lib/python3.10/dist-packages (from matplotlib>=3.1.2->geoplot) (2.8.2)\n",
            "Requirement already satisfied: pytz>=2020.1 in /usr/local/lib/python3.10/dist-packages (from pandas->geoplot) (2023.3.post1)\n",
            "Requirement already satisfied: pyshp>=2.1 in /usr/local/lib/python3.10/dist-packages (from cartopy->geoplot) (2.3.1)\n",
            "Requirement already satisfied: attrs>=19.2.0 in /usr/local/lib/python3.10/dist-packages (from fiona>=1.8.19->geopandas>=0.9.0->geoplot) (23.1.0)\n",
            "Requirement already satisfied: certifi in /usr/local/lib/python3.10/dist-packages (from fiona>=1.8.19->geopandas>=0.9.0->geoplot) (2023.11.17)\n",
            "Requirement already satisfied: click~=8.0 in /usr/local/lib/python3.10/dist-packages (from fiona>=1.8.19->geopandas>=0.9.0->geoplot) (8.1.7)\n",
            "Requirement already satisfied: click-plugins>=1.0 in /usr/local/lib/python3.10/dist-packages (from fiona>=1.8.19->geopandas>=0.9.0->geoplot) (1.1.1)\n",
            "Requirement already satisfied: cligj>=0.5 in /usr/local/lib/python3.10/dist-packages (from fiona>=1.8.19->geopandas>=0.9.0->geoplot) (0.7.2)\n",
            "Requirement already satisfied: six in /usr/local/lib/python3.10/dist-packages (from fiona>=1.8.19->geopandas>=0.9.0->geoplot) (1.16.0)\n",
            "Requirement already satisfied: setuptools in /usr/local/lib/python3.10/dist-packages (from fiona>=1.8.19->geopandas>=0.9.0->geoplot) (67.7.2)\n",
            "Requirement already satisfied: threadpoolctl>=2.0.0 in /usr/local/lib/python3.10/dist-packages (from scikit-learn>=1.0->mapclassify>=2.1->geoplot) (3.2.0)\n",
            "Requirement already satisfied: geographiclib<3,>=1.52 in /usr/local/lib/python3.10/dist-packages (from geopy->contextily>=1.0.0->geoplot) (2.0)\n",
            "Collecting affine (from rasterio->contextily>=1.0.0->geoplot)\n",
            "  Downloading affine-2.4.0-py3-none-any.whl (15 kB)\n",
            "Collecting snuggs>=1.4.1 (from rasterio->contextily>=1.0.0->geoplot)\n",
            "  Downloading snuggs-1.4.7-py3-none-any.whl (5.4 kB)\n",
            "Requirement already satisfied: charset-normalizer<4,>=2 in /usr/local/lib/python3.10/dist-packages (from requests->contextily>=1.0.0->geoplot) (3.3.2)\n",
            "Requirement already satisfied: idna<4,>=2.5 in /usr/local/lib/python3.10/dist-packages (from requests->contextily>=1.0.0->geoplot) (3.6)\n",
            "Requirement already satisfied: urllib3<3,>=1.21.1 in /usr/local/lib/python3.10/dist-packages (from requests->contextily>=1.0.0->geoplot) (2.0.7)\n",
            "Installing collected packages: snuggs, mercantile, affine, rasterio, mapclassify, contextily, cartopy, geoplot\n",
            "Successfully installed affine-2.4.0 cartopy-0.22.0 contextily-1.5.0 geoplot-0.5.1 mapclassify-2.6.1 mercantile-1.2.1 rasterio-1.3.9 snuggs-1.4.7\n"
          ]
        }
      ],
      "source": [
        "!pip install geopandas\n",
        "!pip install geoplot"
      ]
    },
    {
      "cell_type": "markdown",
      "metadata": {
        "id": "cj724vhasvu7"
      },
      "source": [
        "# Importing"
      ]
    },
    {
      "cell_type": "code",
      "execution_count": null,
      "metadata": {
        "colab": {
          "base_uri": "https://localhost:8080/"
        },
        "id": "ailfqt9Psy3y",
        "outputId": "ac700492-ef5a-44ff-cf9e-dbab5a1f6411"
      },
      "outputs": [
        {
          "output_type": "stream",
          "name": "stdout",
          "text": [
            "Note: to be able to use all crisp methods, you need to install some additional packages:  {'graph_tool', 'wurlitzer', 'leidenalg', 'bayanpy', 'infomap'}\n",
            "Note: to be able to use all crisp methods, you need to install some additional packages:  {'ASLPAw', 'pyclustering'}\n",
            "Note: to be able to use all crisp methods, you need to install some additional packages:  {'leidenalg', 'wurlitzer', 'infomap'}\n"
          ]
        }
      ],
      "source": [
        "import numpy as np\n",
        "import matplotlib.pyplot as plt\n",
        "import netCDF4 as nc\n",
        "import h5py\n",
        "import networkx as nx\n",
        "import cartopy.crs as ccrs\n",
        "from tqdm import tqdm\n",
        "from statsmodels.tsa.stattools import ccf\n",
        "from cdlib import algorithms"
      ]
    },
    {
      "cell_type": "markdown",
      "metadata": {
        "id": "R7cECuafNltC"
      },
      "source": [
        "# Functions required"
      ]
    },
    {
      "cell_type": "code",
      "execution_count": null,
      "metadata": {
        "id": "tQumJ6auNpHR"
      },
      "outputs": [],
      "source": [
        "#Loading and Reading Data\n",
        "def load_and_read(filepath):\n",
        "  f = nc.Dataset(filepath, 'r')\n",
        "  lat = f.variables['lat']\n",
        "  lon = f.variables['lon']\n",
        "  band = f.variables['time_bnds']\n",
        "  time = f.variables['time']\n",
        "  temp = f.variables['air']\n",
        "  lat_arr = lat[:]\n",
        "  lon_arr = lon[:]\n",
        "  band_arr = band[:]\n",
        "  time_arr = time[:]\n",
        "  temp_arr = np.zeros((540, 94, 192)) ; temp_arr = temp\n",
        "  monthly_temp = temp_arr.reshape((12, 45, 94, 192), order='F')\n",
        "  monthly_means = np.mean(monthly_temp, axis=1)\n",
        "\n",
        "  anomaly = np.zeros_like(monthly_temp)\n",
        "  for i in range(45):\n",
        "    anomaly[:, i] = monthly_temp[:, i]-monthly_means\n",
        "\n",
        "  return monthly_means, anomaly, lat_arr, lon_arr\n",
        "\n",
        "#Finding Correlations between spatial locations\n",
        "def find_correlations(anomaly, P_level, choose_months = choose_months, lag=lag):\n",
        "  correlations = np.zeros((94*192, 94*192))\n",
        "\n",
        "reshaped = anomaly.reshape(12, 45, 94*192)\n",
        "\n",
        "for i in tqdm(range(94*192)):\n",
        "  for j in range(i+1, 94*192):\n",
        "    series1 = reshaped[choose_months, :-1, i].flatten()\n",
        "    series2 = reshaped[choose_montha, :-1, j].flatten()\n",
        "\n",
        "    correlations[i, j] = ccf(series1, series2)[lag]\n",
        "\n",
        "  return correlations\n",
        "\n",
        "\n",
        "#Building network based on calculated correlations and a threshold\n",
        "def build_network(correlations, lat_arr, lon_arr, resolution=1, threshold=0.5):\n",
        "  grid = np.zeros((94, 192), dtype=tuple)\n",
        "  for i in tqdm(range(94)):\n",
        "    for j in range(192):\n",
        "      grid[i, j] = (lat_arr[i], lon_arr[j]-180)\n",
        "\n",
        "  list_of_points = grid.flatten()\n",
        "  flattened = correlations + correlations.T\n",
        "\n",
        "  threshold = 0.5\n",
        "  A = np.where(np.abs(flattened) > threshold, 1, 0)\n",
        "\n",
        "  G = nx.Graph()\n",
        "\n",
        "  for i in range(0, len(A), int(1/resolution)):\n",
        "    G.add_node(i, pos=list_of_points[i])\n",
        "\n",
        "  for i in range(0, len(A), int(1/resolution)):\n",
        "    for j in range(0, len(A), int(1/resolution)):\n",
        "      if A[i, j] == 1:\n",
        "        G.add_edge(i, j)\n",
        "\n",
        "  return G\n",
        "\n",
        "#Plotting distribution of correlations\n",
        "def plot_correlations(correlations, flattened, threshold=0.5):\n",
        "  upper_entries = np.abs(flattened[np.triu_indices(flattened.shape[0], k=1)])\n",
        "  fig, ax = plt.subplots(figsize=(10, 5), constrained_layout=True)\n",
        "  plt.hist(upper_entries, bins=100, color=\"tab:blue\", alpha=0.5, label=\"counts\",)\n",
        "  ax.axvline(threshold, color=\"tab:red\", label=\"threshold\")\n",
        "  ax.set_xlabel(\"Correlation\")\n",
        "  ax.set_ylabel(\"Pairs of Locations\")\n",
        "  ax.legend()\n",
        "\n",
        "  return fig\n",
        "\n",
        "#Plotting network\n",
        "def plot_network(G, plot_edges=True, plot_nodes=True):\n",
        "  fig, ax = plt.subplots(figsize = (15, 10), subplot_kw={'projection': ccrs.PlateCarree()})\n",
        "  pos = {node: (lon, lat) for node, (lat, lon) in nx.get_node_attributes(G, 'pos').items()}\n",
        "\n",
        "  if plot_edges:\n",
        "    nx.draw_networkx_edges(G, pos, ax=ax, edge_color='k', alpha=0.2)\n",
        "  if plot_nodes:\n",
        "    nx.draw_networkx_nodes(G, pos, ax=ax, node_color='r', node_size=15, alpha=0.7)\n",
        "\n",
        "  ax.coastlines()\n",
        "  ax.gridlines()\n",
        "\n",
        "  return fig\n",
        "\n",
        "\n",
        "def community_detection(G):\n",
        "  communities = algorithms.louvain(G)\n",
        "  print('No. of Communities:', len(communities.communities))\n",
        "  print('Modularity:', communities.newman_girvan_modularity())\n",
        "  return communities\n",
        "\n",
        "def plot_communities(G, communities, plot_edges=False, node_size=50):\n",
        "  num_communities = len(communities.communities)\n",
        "  community_colors = plt.cm.rainbow(np.linspace(0, 1, num_communities))\n",
        "\n",
        "  node_colors = {node: community_colors[community_id] for community_id, community in enumerate(communities.communities) for node in community}\n",
        "  community_mapping = {node: community_id for community_id, community in enumerate(communities.communities) for node in community}\n",
        "\n",
        "  fig, ax = plt.subplots(figsize = (15, 10), subplot_kw={'projection': ccrs.PlateCarree()})\n",
        "  pos = {node: (lon, lat) for node, (lat, lon) in nx.get_node_attributes(G, 'pos').items()}\n",
        "\n",
        "  if plot_edges:\n",
        "    nx.draw_networkx_edges(G, pos, ax=ax, edge_color='k', alpha=0.3)\n",
        "\n",
        "  for node, (lon, lat) in pos.items():\n",
        "    color = community_colors[community_mapping.get(node, 0)]  # Default to the first color if not in any community\n",
        "    ax.scatter(lon, lat, c=[color], s=node_size, transform=ccrs.PlateCarree())\n",
        "\n",
        "  ax.coastlines()\n",
        "  ax.gridlines()\n",
        "\n",
        "  legend_labels = [f\"Community {i}\" for i in range(num_communities)]\n",
        "  legend_handles = [plt.Line2D([0], [0], marker='o', color='w', markerfacecolor=community_colors[i], markersize=10) for i in range(num_communities)]\n",
        "  ax.legend(legend_handles, legend_labels, loc='upper right')\n",
        "\n",
        "  return fig\n",
        "\n",
        "\n"
      ]
    },
    {
      "cell_type": "markdown",
      "metadata": {
        "id": "S-X4rDb5oy7k"
      },
      "source": [
        "# Pipeline"
      ]
    },
    {
      "cell_type": "code",
      "execution_count": null,
      "metadata": {
        "id": "l7betyo5zsLv"
      },
      "outputs": [],
      "source": [
        "monthly_means, anomaly, lat_arr, lon_arr = load_and_read(filepath)\n",
        "correlations = find_correlations(anomaly, P_level, choose_months, lag)\n",
        "\n",
        "G1 = build_network(correlations, lat_arr, lon_arr, resolution=1/10, threshold=threshold)\n",
        "G2 = build_network(correlations, lat_arr, lon_arr, resolution=1, threshold=threshold)\n",
        "\n",
        "print('Resolution 1/10th')\n",
        "communities1 = community_detection(G1)\n",
        "print('\\n')\n",
        "print('Full Resolution')\n",
        "communities2 = community_detection(G2)"
      ]
    },
    {
      "cell_type": "markdown",
      "metadata": {
        "id": "BBuv225y14ZQ"
      },
      "source": [
        "# Plotting"
      ]
    },
    {
      "cell_type": "code",
      "execution_count": null,
      "metadata": {
        "id": "l07QAqNY15tb"
      },
      "outputs": [],
      "source": [
        "#1/10th resolution\n",
        "fig= plot_network(G1)"
      ]
    },
    {
      "cell_type": "code",
      "execution_count": null,
      "metadata": {
        "id": "qzDsP-3w2CeA"
      },
      "outputs": [],
      "source": [
        "#Communities in 1/10th resolution\n",
        "fig = plot_communities(G1, communities1)"
      ]
    },
    {
      "cell_type": "code",
      "execution_count": null,
      "metadata": {
        "id": "gcg7N-IB2LD_"
      },
      "outputs": [],
      "source": [
        "#Communities in full resolution\n",
        "fig = plot_communities(G2, communities2, node_size=10)"
      ]
    }
  ],
  "metadata": {
    "colab": {
      "collapsed_sections": [
        "95Q7zpagNGIy",
        "cj724vhasvu7",
        "R7cECuafNltC"
      ],
      "provenance": []
    },
    "kernelspec": {
      "display_name": "Python 3",
      "name": "python3"
    },
    "language_info": {
      "name": "python"
    }
  },
  "nbformat": 4,
  "nbformat_minor": 0
}